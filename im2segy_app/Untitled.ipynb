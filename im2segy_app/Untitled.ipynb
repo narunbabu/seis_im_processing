{
 "cells": [
  {
   "cell_type": "code",
   "execution_count": 4,
   "id": "035b780a",
   "metadata": {},
   "outputs": [
    {
     "name": "stdout",
     "output_type": "stream",
     "text": [
      "Bangladesh\n",
      "Kalimantan\n",
      "Mindoro\n",
      "Palawan\n",
      "sabah\n",
      "Sarawak\n",
      "Thailand\n",
      "VietamAdditional\n",
      "Vietnam\n"
     ]
    },
    {
     "data": {
      "text/plain": [
       "[None, None, None, None, None, None, None, None, None]"
      ]
     },
     "execution_count": 4,
     "metadata": {},
     "output_type": "execute_result"
    }
   ],
   "source": [
    "folder='D:\\Ameyem\\Bhugarbho\\JOGMEC\\SeismicSection\\\\'\n",
    "import os\n",
    "[print(f) for f in os.listdir(folder) if '.xlsx' not in f]"
   ]
  }
 ],
 "metadata": {
  "kernelspec": {
   "display_name": "Python 3",
   "language": "python",
   "name": "python3"
  },
  "language_info": {
   "codemirror_mode": {
    "name": "ipython",
    "version": 3
   },
   "file_extension": ".py",
   "mimetype": "text/x-python",
   "name": "python",
   "nbconvert_exporter": "python",
   "pygments_lexer": "ipython3",
   "version": "3.8.8"
  }
 },
 "nbformat": 4,
 "nbformat_minor": 5
}
