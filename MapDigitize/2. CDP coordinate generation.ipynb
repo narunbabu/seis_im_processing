{
 "cells": [
  {
   "cell_type": "code",
   "execution_count": 9,
   "id": "3d86ae93",
   "metadata": {},
   "outputs": [
    {
     "data": {
      "text/plain": [
       "['map-3_all.xlsx',\n",
       " 'map1_all.xlsx',\n",
       " 'map2_all.xlsx',\n",
       " 'map4_all.xlsx',\n",
       " 'map5_all.xlsx',\n",
       " 'map6_all.xlsx',\n",
       " 'map_c1_all.xlsx',\n",
       " 'map_c2_all.xlsx',\n",
       " 'map_c4_all.xlsx',\n",
       " 'map_S1_all.xlsx',\n",
       " 'map_S2_all.xlsx',\n",
       " 'map_S3_all.xlsx',\n",
       " 'map_S4_all.xlsx']"
      ]
     },
     "execution_count": 9,
     "metadata": {},
     "output_type": "execute_result"
    }
   ],
   "source": [
    "import os\n",
    "folder=r'D:\\Ameyem\\Bhugarbho\\JOGMEC\\ShotpointMap\\Sarawak\\\\'\n",
    "files=[f  for f in os.listdir(folder) if 'all.xlsx' in f]\n",
    "files"
   ]
  },
  {
   "cell_type": "code",
   "execution_count": 4,
   "id": "c1f64eee",
   "metadata": {},
   "outputs": [],
   "source": [
    "# df"
   ]
  },
  {
   "cell_type": "code",
   "execution_count": 12,
   "id": "15f629ba",
   "metadata": {},
   "outputs": [
    {
     "name": "stdout",
     "output_type": "stream",
     "text": [
      "83-01\n"
     ]
    },
    {
     "data": {
      "text/html": [
       "<div>\n",
       "<style scoped>\n",
       "    .dataframe tbody tr th:only-of-type {\n",
       "        vertical-align: middle;\n",
       "    }\n",
       "\n",
       "    .dataframe tbody tr th {\n",
       "        vertical-align: top;\n",
       "    }\n",
       "\n",
       "    .dataframe thead th {\n",
       "        text-align: right;\n",
       "    }\n",
       "</style>\n",
       "<table border=\"1\" class=\"dataframe\">\n",
       "  <thead>\n",
       "    <tr style=\"text-align: right;\">\n",
       "      <th></th>\n",
       "      <th>Unnamed: 0</th>\n",
       "      <th>lno</th>\n",
       "      <th>shotpoint</th>\n",
       "      <th>X-Coord</th>\n",
       "      <th>Y-Coord</th>\n",
       "    </tr>\n",
       "  </thead>\n",
       "  <tbody>\n",
       "    <tr>\n",
       "      <th>0</th>\n",
       "      <td>17</td>\n",
       "      <td>83-01</td>\n",
       "      <td>101</td>\n",
       "      <td>546804.795546</td>\n",
       "      <td>569225.496916</td>\n",
       "    </tr>\n",
       "    <tr>\n",
       "      <th>1</th>\n",
       "      <td>18</td>\n",
       "      <td>83-01</td>\n",
       "      <td>400</td>\n",
       "      <td>555359.525732</td>\n",
       "      <td>571190.313000</td>\n",
       "    </tr>\n",
       "    <tr>\n",
       "      <th>0</th>\n",
       "      <td>21</td>\n",
       "      <td>83-01</td>\n",
       "      <td>410</td>\n",
       "      <td>555828.391809</td>\n",
       "      <td>571209.416287</td>\n",
       "    </tr>\n",
       "    <tr>\n",
       "      <th>1</th>\n",
       "      <td>20</td>\n",
       "      <td>83-01</td>\n",
       "      <td>1123</td>\n",
       "      <td>576894.036088</td>\n",
       "      <td>576168.623880</td>\n",
       "    </tr>\n",
       "  </tbody>\n",
       "</table>\n",
       "</div>"
      ],
      "text/plain": [
       "   Unnamed: 0    lno  shotpoint        X-Coord        Y-Coord\n",
       "0          17  83-01        101  546804.795546  569225.496916\n",
       "1          18  83-01        400  555359.525732  571190.313000\n",
       "0          21  83-01        410  555828.391809  571209.416287\n",
       "1          20  83-01       1123  576894.036088  576168.623880"
      ]
     },
     "execution_count": 12,
     "metadata": {},
     "output_type": "execute_result"
    }
   ],
   "source": [
    "import pandas as pd\n",
    "# fig=plt.figure(figsize=(20,20))\n",
    "props = dict(boxstyle='round', facecolor='wheat', alpha=0.5)\n",
    "finaldf=pd.DataFrame()\n",
    "for f in files:\n",
    "#     if '7_1' in f or '7_3' in f:\n",
    "        fname=folder+f\n",
    "        df=pd.read_excel(fname)\n",
    "        finaldf=pd.concat([finaldf,df])\n",
    "finaldf=finaldf.sort_values(by='lno')\n",
    "\n",
    "for lno in finaldf.lno.unique():\n",
    "    print(lno)\n",
    "#             if lno=='73-744':\n",
    "    ldf=finaldf[finaldf.lno==lno]\n",
    "    break\n",
    "ldf\n",
    "#                 if len(ldf['lno'])>1:\n",
    "#                     plt.plot(ldf['X-Coord'],ldf['Y-Coord'],'.-')\n",
    "\n",
    "#                     if abs(ldf['Y-Coord'].iloc[0]-ldf['Y-Coord'].iloc[1])>2000:\n",
    "#                         plt.text(ldf['X-Coord'].iloc[0]-1000,ldf['Y-Coord'].iloc[0]+300,lno,bbox=props,fontsize=10,)\n",
    "#                     else:\n",
    "#                         plt.text(ldf['X-Coord'].iloc[0]-3000,ldf['Y-Coord'].iloc[0]-100,lno,bbox=props,fontsize=10,)\n",
    "#                     for i,sp in enumerate(ldf['shotpoint']):\n",
    "#                         plt.text(ldf['X-Coord'].iloc[i],ldf['Y-Coord'].iloc[i],str(sp),fontsize=8,)\n",
    "\n",
    "#                 else:\n",
    "#                     print('Single entry is there for ',ldf['lno'].iloc[0])\n",
    "# plt.title(fname.split('\\\\')[-1].replace('.xlsx',''),fontsize=20,)\n",
    "# # plt.axis('tight')\n",
    "# plt.gca().set_aspect(1)"
   ]
  },
  {
   "cell_type": "code",
   "execution_count": null,
   "id": "e5e80faa",
   "metadata": {},
   "outputs": [],
   "source": []
  }
 ],
 "metadata": {
  "kernelspec": {
   "display_name": "Python 3",
   "language": "python",
   "name": "python3"
  },
  "language_info": {
   "codemirror_mode": {
    "name": "ipython",
    "version": 3
   },
   "file_extension": ".py",
   "mimetype": "text/x-python",
   "name": "python",
   "nbconvert_exporter": "python",
   "pygments_lexer": "ipython3",
   "version": "3.8.8"
  }
 },
 "nbformat": 4,
 "nbformat_minor": 5
}
