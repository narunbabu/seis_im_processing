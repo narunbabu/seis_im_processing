{
 "cells": [
  {
   "cell_type": "code",
   "execution_count": 4,
   "id": "ec663c55",
   "metadata": {},
   "outputs": [
    {
     "data": {
      "text/plain": [
       "array({'l111111': [('1', PyQt5.QtCore.QPointF(622.2950819672132, 434.75409836065575)), ('2', PyQt5.QtCore.QPointF(963.2786885245903, 515.7377049180328)), ('', PyQt5.QtCore.QPointF(1278.688524590164, 575.4098360655738))], 'l222222': [('6', PyQt5.QtCore.QPointF(490.16393442622956, 895.0819672131148)), ('7', PyQt5.QtCore.QPointF(899.344262295082, 1022.9508196721313)), ('', PyQt5.QtCore.QPointF(1632.4590163934427, 1193.4426229508197)), ('', PyQt5.QtCore.QPointF(1575.891677675033, 866.4134742404226)), ('', PyQt5.QtCore.QPointF(1575.891677675033, 866.4134742404226)), ('', PyQt5.QtCore.QPointF(1765.5217965653894, 1039.696169088507)), ('', PyQt5.QtCore.QPointF(1765.5217965653894, 1039.696169088507))], 'l3333': [('33', PyQt5.QtCore.QPointF(493.69220607661816, 637.5495376486128)), ('34', PyQt5.QtCore.QPointF(493.69220607661816, 637.5495376486128)), ('35', PyQt5.QtCore.QPointF(889.2998678996036, 817.3712021136063)), ('', PyQt5.QtCore.QPointF(889.2998678996036, 817.3712021136063)), ('', PyQt5.QtCore.QPointF(1209.7093791281372, 1029.887714663144)), ('', PyQt5.QtCore.QPointF(1209.7093791281372, 1029.887714663144)), ('', PyQt5.QtCore.QPointF(1651.0898282694845, 1278.3685601056802)), ('', PyQt5.QtCore.QPointF(1651.0898282694845, 1278.3685601056802))], 'l444': [('', PyQt5.QtCore.QPointF(605.2459016393443, 1142.2950819672133)), ('', PyQt5.QtCore.QPointF(605.2459016393443, 1142.2950819672133)), ('', PyQt5.QtCore.QPointF(814.0983606557378, 1282.9508196721313)), ('', PyQt5.QtCore.QPointF(814.0983606557378, 1282.9508196721313))], 'l5555': [('', PyQt5.QtCore.QPointF(1380.9836065573772, 392.13114754098365)), ('', PyQt5.QtCore.QPointF(1380.9836065573772, 392.13114754098365)), ('', PyQt5.QtCore.QPointF(1704.9180327868853, 558.360655737705)), ('', PyQt5.QtCore.QPointF(1704.9180327868853, 558.360655737705)), ('', PyQt5.QtCore.QPointF(2003.2786885245903, 737.377049180328)), ('', PyQt5.QtCore.QPointF(2003.2786885245903, 737.377049180328))], 'l666': [('', PyQt5.QtCore.QPointF(421.96721311475414, 1564.2622950819673)), ('', PyQt5.QtCore.QPointF(669.1803278688525, 1756.065573770492)), ('', PyQt5.QtCore.QPointF(886.5573770491803, 1922.2950819672133))], 'l777': [('', PyQt5.QtCore.QPointF(1133.7704918032787, 1167.8688524590166)), ('', PyQt5.QtCore.QPointF(1133.7704918032787, 1167.8688524590166)), ('', PyQt5.QtCore.QPointF(1312.7868852459017, 1483.2786885245903)), ('', PyQt5.QtCore.QPointF(1312.7868852459017, 1483.2786885245903))], 'l888': [('', PyQt5.QtCore.QPointF(1410.8196721311476, 230.16393442622953)), ('', PyQt5.QtCore.QPointF(1410.8196721311476, 230.16393442622953)), ('', PyQt5.QtCore.QPointF(1704.9180327868853, 200.32786885245903)), ('', PyQt5.QtCore.QPointF(1704.9180327868853, 200.32786885245903))], 'l999': [('', PyQt5.QtCore.QPointF(831.1475409836066, 298.3606557377049)), ('', PyQt5.QtCore.QPointF(1176.393442622951, 468.8524590163935))]},\n",
       "      dtype=object)"
      ]
     },
     "execution_count": 4,
     "metadata": {},
     "output_type": "execute_result"
    }
   ],
   "source": [
    "folder=r'C:\\Users\\ArunBabu\\OneDrive - ANTELOPUS ENERGY PRIVATE LIMITED\\Python\\Digitization\\Image2Segy\\MapDigitize\\DigiProjects\\\\'\n",
    "linesfile=folder+'latest\\lines.npy'\n",
    "import numpy as np\n",
    "import PyQt5.QtCore\n",
    "contents=np.load(linesfile,allow_pickle=True)\n",
    "contents"
   ]
  },
  {
   "cell_type": "code",
   "execution_count": 6,
   "id": "53c285a2",
   "metadata": {},
   "outputs": [
    {
     "name": "stdout",
     "output_type": "stream",
     "text": [
      "l111111\n",
      "1 PyQt5.QtCore.QPointF(622.2950819672132, 434.75409836065575)\n",
      "2 PyQt5.QtCore.QPointF(963.2786885245903, 515.7377049180328)\n",
      " PyQt5.QtCore.QPointF(1278.688524590164, 575.4098360655738)\n",
      "l222222\n",
      "6 PyQt5.QtCore.QPointF(490.16393442622956, 895.0819672131148)\n",
      "7 PyQt5.QtCore.QPointF(899.344262295082, 1022.9508196721313)\n",
      " PyQt5.QtCore.QPointF(1632.4590163934427, 1193.4426229508197)\n",
      " PyQt5.QtCore.QPointF(1575.891677675033, 866.4134742404226)\n",
      " PyQt5.QtCore.QPointF(1575.891677675033, 866.4134742404226)\n",
      " PyQt5.QtCore.QPointF(1765.5217965653894, 1039.696169088507)\n",
      " PyQt5.QtCore.QPointF(1765.5217965653894, 1039.696169088507)\n",
      "l3333\n",
      "33 PyQt5.QtCore.QPointF(493.69220607661816, 637.5495376486128)\n",
      "34 PyQt5.QtCore.QPointF(493.69220607661816, 637.5495376486128)\n",
      "35 PyQt5.QtCore.QPointF(889.2998678996036, 817.3712021136063)\n",
      " PyQt5.QtCore.QPointF(889.2998678996036, 817.3712021136063)\n",
      " PyQt5.QtCore.QPointF(1209.7093791281372, 1029.887714663144)\n",
      " PyQt5.QtCore.QPointF(1209.7093791281372, 1029.887714663144)\n",
      " PyQt5.QtCore.QPointF(1651.0898282694845, 1278.3685601056802)\n",
      " PyQt5.QtCore.QPointF(1651.0898282694845, 1278.3685601056802)\n",
      "l444\n",
      " PyQt5.QtCore.QPointF(605.2459016393443, 1142.2950819672133)\n",
      " PyQt5.QtCore.QPointF(605.2459016393443, 1142.2950819672133)\n",
      " PyQt5.QtCore.QPointF(814.0983606557378, 1282.9508196721313)\n",
      " PyQt5.QtCore.QPointF(814.0983606557378, 1282.9508196721313)\n",
      "l5555\n",
      " PyQt5.QtCore.QPointF(1380.9836065573772, 392.13114754098365)\n",
      " PyQt5.QtCore.QPointF(1380.9836065573772, 392.13114754098365)\n",
      " PyQt5.QtCore.QPointF(1704.9180327868853, 558.360655737705)\n",
      " PyQt5.QtCore.QPointF(1704.9180327868853, 558.360655737705)\n",
      " PyQt5.QtCore.QPointF(2003.2786885245903, 737.377049180328)\n",
      " PyQt5.QtCore.QPointF(2003.2786885245903, 737.377049180328)\n",
      "l666\n",
      " PyQt5.QtCore.QPointF(421.96721311475414, 1564.2622950819673)\n",
      " PyQt5.QtCore.QPointF(669.1803278688525, 1756.065573770492)\n",
      " PyQt5.QtCore.QPointF(886.5573770491803, 1922.2950819672133)\n",
      "l777\n",
      " PyQt5.QtCore.QPointF(1133.7704918032787, 1167.8688524590166)\n",
      " PyQt5.QtCore.QPointF(1133.7704918032787, 1167.8688524590166)\n",
      " PyQt5.QtCore.QPointF(1312.7868852459017, 1483.2786885245903)\n",
      " PyQt5.QtCore.QPointF(1312.7868852459017, 1483.2786885245903)\n",
      "l888\n",
      " PyQt5.QtCore.QPointF(1410.8196721311476, 230.16393442622953)\n",
      " PyQt5.QtCore.QPointF(1410.8196721311476, 230.16393442622953)\n",
      " PyQt5.QtCore.QPointF(1704.9180327868853, 200.32786885245903)\n",
      " PyQt5.QtCore.QPointF(1704.9180327868853, 200.32786885245903)\n",
      "l999\n",
      " PyQt5.QtCore.QPointF(831.1475409836066, 298.3606557377049)\n",
      " PyQt5.QtCore.QPointF(1176.393442622951, 468.8524590163935)\n"
     ]
    }
   ],
   "source": [
    "lines=np.load(linesfile,allow_pickle=True).item()\n",
    "# print('self.lines ',self.lines)\n",
    "for linename in lines.keys():\n",
    "    print(linename)\n",
    "    for name,scenePos in lines[linename]:\n",
    "        print(name,scenePos)\n"
   ]
  }
 ],
 "metadata": {
  "kernelspec": {
   "display_name": "Python 3",
   "language": "python",
   "name": "python3"
  },
  "language_info": {
   "codemirror_mode": {
    "name": "ipython",
    "version": 3
   },
   "file_extension": ".py",
   "mimetype": "text/x-python",
   "name": "python",
   "nbconvert_exporter": "python",
   "pygments_lexer": "ipython3",
   "version": "3.8.8"
  }
 },
 "nbformat": 4,
 "nbformat_minor": 5
}
