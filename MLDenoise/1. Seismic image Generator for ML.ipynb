{
 "cells": [
  {
   "cell_type": "code",
   "execution_count": 1,
   "id": "18296073",
   "metadata": {},
   "outputs": [],
   "source": [
    "import segyio\n",
    "import numpy as np\n",
    "\n",
    "import datetime\n",
    "import os\n",
    "import numpy as np\n",
    "\n",
    "from PIL import ImageFont\n",
    "from PIL import Image\n",
    "from PIL import ImageDraw\n",
    "import random \n",
    "# img.show()\n",
    "from matplotlib import pyplot as plt\n",
    "%matplotlib inline\n",
    "\n",
    "def fig2img(fig):\n",
    "    \"\"\"Convert a Matplotlib figure to a PIL Image and return it\"\"\"\n",
    "    import io\n",
    "    buf = io.BytesIO()\n",
    "    fig.savefig(buf,dpi=300)\n",
    "    buf.seek(0)\n",
    "    img = Image.open(buf)\n",
    "    return img\n",
    "\n",
    "import os\n",
    "def createFolderPath(directory):\n",
    "    if not os.path.exists(directory):\n",
    "        os.makedirs(directory)\n",
    "datafolder=r'D:\\Ameyem\\python\\ML\\Data\\SeismicImage\\SynthImages/'\n",
    "\n",
    "noisefolder=datafolder+'noise/'\n",
    "cleanfolder=datafolder+'clean/'\n",
    "createFolderPath(noisefolder)\n",
    "createFolderPath(cleanfolder)\n",
    "# createFolderPath(testfolders[lbl])"
   ]
  },
  {
   "cell_type": "code",
   "execution_count": 5,
   "id": "4dd87a77",
   "metadata": {},
   "outputs": [
    {
     "name": "stdout",
     "output_type": "stream",
     "text": [
      "(220951, 4000) 551 401\n"
     ]
    }
   ],
   "source": [
    "seismicdatafolder=r'D:\\ArunAntelopus\\Cambay work\\BakrolData\\\\'\n",
    "segyfile='Final_3D_Pre_STM_STK_vol_petexport.sgy'\n",
    "\n",
    "seismicdatafolder=r'C:\\Users\\ArunBabu\\ANTELOPUS ENERGY PRIVATE LIMITED\\GeoTech - Documents\\2. D-31\\0. Data from DGH\\MB-OSDSF-D-31-2018\\D-31\\Data-Package_Part_A\\Seismic\\3D\\\\'\n",
    "# seismicdatafolder=datafolder#+'BAKROL 3D_SEISMIC_PSTM\\\\3D PSTM_SEGY DATA\\\\'\n",
    "segyfile='3D02-DCS-ND1_2_5D_PSTM.sgy'\n",
    "\n",
    "path='D:\\Ameyem\\python\\inversion&spect_decomp\\d11_data\\\\'+'NEC-OSN-97_2_NORTH_3D_crop_forSpectrum.sgy'\n",
    "\n",
    "# path=folder+'NEC-OSN-97_2_North_crop.sgy'\n",
    "f = segyio.open(path)\n",
    "x = segyio.tools.collect(f.trace[:])\n",
    "# x = x.reshape((len(f.ilines), len(f.xlines), len(f.samples)))\n",
    "# np.all(x == segyio.tools.cube(f))\n",
    "# # with segyio.open(path, \"r\") as f:\n",
    "# #     x = segyio.tools.collect(f.traces[:])\n",
    "# #     print(f.ilines)\n",
    "# # dir(f)\n",
    "print(x.shape,len(f.ilines), len(f.xlines))\n",
    "\n",
    "\n",
    "# path=seismicdatafolder+segyfile\n",
    "# f = segyio.open(path)\n",
    "# x = segyio.tools.collect(f.trace[:])\n",
    "\n",
    "# sourceX = f.attributes(segyio.TraceField.SourceX)[:]\n",
    "# sourceY = f.attributes(segyio.TraceField.SourceY)[:]"
   ]
  },
  {
   "cell_type": "code",
   "execution_count": 6,
   "id": "d7aa001b",
   "metadata": {},
   "outputs": [
    {
     "data": {
      "text/plain": [
       "(551, 401, 4000)"
      ]
     },
     "execution_count": 6,
     "metadata": {},
     "output_type": "execute_result"
    }
   ],
   "source": [
    "# vol=x.reshape(len(np.unique(sourceY)),len(np.unique(sourceX)),x.shape[1])\n",
    "vol=x.reshape(len(f.ilines), len(f.xlines),x.shape[1])\n",
    "vol.shape"
   ]
  },
  {
   "cell_type": "code",
   "execution_count": 71,
   "id": "ebaafe3c",
   "metadata": {},
   "outputs": [],
   "source": [
    "vol=vol[:,:,:3000]"
   ]
  },
  {
   "cell_type": "code",
   "execution_count": 3,
   "id": "d67aebbb",
   "metadata": {},
   "outputs": [],
   "source": [
    "# import matplotlib.pyplot as plt\n",
    "# fig=plt.figure(figsize=(12,8))\n",
    "# plt.imshow(vol[400][:,1000:1500].T)\n"
   ]
  },
  {
   "cell_type": "code",
   "execution_count": 5,
   "id": "e45d48b9",
   "metadata": {},
   "outputs": [],
   "source": [
    "# import yaml\n",
    "\n",
    "# with open(\"./config.yml\", \"r\") as stream:\n",
    "#     try:\n",
    "#         cfg=yaml.safe_load(stream)\n",
    "#         print()\n",
    "#     except yaml.YAMLError as exc:\n",
    "#         print(exc)\n",
    "# # cfg"
   ]
  },
  {
   "cell_type": "code",
   "execution_count": 36,
   "id": "b96c05db",
   "metadata": {},
   "outputs": [],
   "source": [
    "\n",
    "\n",
    "\n",
    "# ss=vol[400][:,1250:1500]\n",
    "def randomcrop(im):\n",
    "    width, height = im.size\n",
    "\n",
    "    # Setting the points for cropped image\n",
    "    left = np.random.randint(0,int(width/2)-40)\n",
    "    top = np.random.randint(0,int(height/2)-20)\n",
    "    right = np.random.randint(int(width/2),int(width))\n",
    "    bottom = np.random.randint(int(height/2),int(height))\n",
    "\n",
    "    # Cropped image of above dimension\n",
    "    # (It will not change original image)\n",
    "    return im.crop((left, top, right, bottom))\n",
    "\n",
    "    # fig.tight_layout()\n",
    "    # plt.tight_layout()\n"
   ]
  },
  {
   "cell_type": "code",
   "execution_count": 4,
   "id": "b6991869",
   "metadata": {},
   "outputs": [],
   "source": [
    "# clnimg.size,grdimg.size"
   ]
  },
  {
   "cell_type": "code",
   "execution_count": 5,
   "id": "3b025cfb",
   "metadata": {},
   "outputs": [],
   "source": [
    "# fname='test.png'\n",
    "# fig.savefig(fname,dpi=300)\n",
    "\n",
    "\n",
    "\n",
    "\n",
    "# import numpy as np\n",
    "# import matplotlib.pyplot as plt\n",
    "\n",
    "\n",
    "# x = np.arange(-3,3)\n",
    "# plt.plot(x)\n",
    "# fig = plt.gcf()\n",
    "\n",
    "\n",
    "\n",
    "# fimg.show()\n",
    "# list(range(1,100,10))\n",
    "# list(range(0,ntraces,xlininterval))\n"
   ]
  },
  {
   "cell_type": "code",
   "execution_count": 417,
   "id": "0f318ab9",
   "metadata": {},
   "outputs": [],
   "source": [
    "\n",
    "# plt.figure(figsize=(32, 8))\n",
    "# plt.imshow(fimg)"
   ]
  },
  {
   "cell_type": "code",
   "execution_count": 174,
   "id": "7b985211",
   "metadata": {},
   "outputs": [],
   "source": [
    "\n",
    "# # direction,cfg['grid_time']\n",
    "# cfg['opacity']=0\n",
    "# cfg['grid_alpha']=0.4\n",
    "# # cfg"
   ]
  },
  {
   "cell_type": "code",
   "execution_count": 34,
   "id": "e3a60acb",
   "metadata": {},
   "outputs": [
    {
     "data": {
      "text/plain": [
       "110"
      ]
     },
     "execution_count": 34,
     "metadata": {},
     "output_type": "execute_result"
    }
   ],
   "source": [
    "imdatafolder='D:\\Ameyem\\python\\ML\\Data\\SeismicImage\\inputpaper/'\n",
    "files=os.listdir(imdatafolder)\n",
    "\n",
    "l=1\n",
    "direction='i'\n",
    "ax=None\n",
    "skip=1\n",
    "perc=99.0\n",
    "\n",
    "rgb=(0, 0, 0)\n",
    "alpha=0.5\n",
    "\n",
    "dt=2\n",
    "l\n",
    "\n",
    "inlines=np.arange(5,vol.shape[0],5)\n",
    "xlines=vol.shape[1]\n",
    "tpoints=vol.shape[2]\n",
    "\n",
    "len(list(inlines))"
   ]
  },
  {
   "cell_type": "code",
   "execution_count": 75,
   "id": "fd928320",
   "metadata": {},
   "outputs": [],
   "source": [
    "# inlines\n",
    "# len(files)\n",
    "# inlines\n",
    "inlines=np.arange(5,vol.shape[0],5)\n",
    "xlines=vol.shape[1]\n",
    "ilines=vol.shape[0]\n",
    "xlines=np.arange(5,vol.shape[1],5)"
   ]
  },
  {
   "cell_type": "code",
   "execution_count": 76,
   "id": "95030909",
   "metadata": {},
   "outputs": [
    {
     "name": "stdout",
     "output_type": "stream",
     "text": [
      "25, figsize,xlwidth,ylwidth,lw, gain:  (15, 8) 0.15470697938348277 0.3000206482134366 0.2775801749553911 0.5382385859029181\n",
      "vertlininterval,horlininterval 10 200\n",
      "30, figsize,xlwidth,ylwidth,lw, gain:  (12, 10) 0.23300372132320957 0.2866068704759491 0.49986558393252334 0.7353692448318179\n",
      "vertlininterval,horlininterval 60 200\n",
      "35, figsize,xlwidth,ylwidth,lw, gain:  (16, 4) 0.3072301325545736 0.3041602006480286 0.5102568548496418 0.23360964542792415\n",
      "vertlininterval,horlininterval 50 400\n",
      "40, figsize,xlwidth,ylwidth,lw, gain:  (14, 8) 0.5180737559151987 0.28877499747049423 0.18421044130438394 0.3378594903582915\n",
      "vertlininterval,horlininterval 60 400\n",
      "45, figsize,xlwidth,ylwidth,lw, gain:  (12, 7) 0.9903489080252075 0.3384453770613475 0.32532907842052705 0.7273613057976678\n",
      "vertlininterval,horlininterval 60 250\n",
      "50, figsize,xlwidth,ylwidth,lw, gain:  (26, 4) 0.03463971382417763 0.3242424268788731 0.42051362284150784 0.5230852956594562\n",
      "vertlininterval,horlininterval 10 400\n",
      "55, figsize,xlwidth,ylwidth,lw, gain:  (15, 7) 0.7669700156925212 0.6658260434779786 0.1834235370205596 0.6547941482663722\n",
      "vertlininterval,horlininterval 50 200\n",
      "60, figsize,xlwidth,ylwidth,lw, gain:  (19, 8) 0.3733263141337156 0.26605926254480794 0.11407789870413385 0.4827210519473829\n",
      "vertlininterval,horlininterval 10 200\n",
      "65, figsize,xlwidth,ylwidth,lw, gain:  (23, 11) 0.9115499339491383 0.5970636290340631 0.4808401605168806 0.4590571617654847\n",
      "vertlininterval,horlininterval 50 300\n",
      "70, figsize,xlwidth,ylwidth,lw, gain:  (10, 5) 0.3189881136899921 0.04906712540816577 0.5665772134809668 0.21568629661322763\n",
      "vertlininterval,horlininterval 10 400\n",
      "75, figsize,xlwidth,ylwidth,lw, gain:  (25, 11) 0.1406436837031097 0.14551638560420582 0.13330212662140598 0.26647140953364473\n",
      "vertlininterval,horlininterval 75 400\n",
      "80, figsize,xlwidth,ylwidth,lw, gain:  (21, 11) 0.10369997270980491 0.9065311078518752 0.14687695924555075 0.5706814306208942\n",
      "vertlininterval,horlininterval 20 400\n",
      "85, figsize,xlwidth,ylwidth,lw, gain:  (21, 9) 0.2864884048554959 0.3426165450329316 0.3740183640260675 0.4477902919667439\n",
      "vertlininterval,horlininterval 10 300\n",
      "90, figsize,xlwidth,ylwidth,lw, gain:  (27, 10) 0.21364421686455293 0.716501869561084 0.5383602792092315 0.45736542591341445\n",
      "vertlininterval,horlininterval 75 250\n",
      "95, figsize,xlwidth,ylwidth,lw, gain:  (11, 9) 0.9864851699494382 0.2777098932230567 0.3584624640365174 0.46750832676771326\n",
      "vertlininterval,horlininterval 75 200\n",
      "100, figsize,xlwidth,ylwidth,lw, gain:  (31, 6) 0.609773654615309 0.44215617556156384 0.39212039264913157 0.23797181720783192\n",
      "vertlininterval,horlininterval 50 200\n",
      "105, figsize,xlwidth,ylwidth,lw, gain:  (31, 11) 0.07655809374710765 0.5043114433081617 0.5870579576152821 0.7079050729510505\n",
      "vertlininterval,horlininterval 50 100\n",
      "110, figsize,xlwidth,ylwidth,lw, gain:  (12, 5) 0.9564086358867945 0.5094490839951806 0.24274834072962567 0.7006435326556433\n",
      "vertlininterval,horlininterval 20 400\n",
      "115, figsize,xlwidth,ylwidth,lw, gain:  (31, 8) 0.3037016541423626 0.14117918104561344 0.5256680059068968 0.8324366115506185\n",
      "vertlininterval,horlininterval 10 300\n",
      "120, figsize,xlwidth,ylwidth,lw, gain:  (16, 7) 0.3558307021247033 0.45855745708580814 0.27664113554990255 0.23060067532067513\n",
      "vertlininterval,horlininterval 10 300\n",
      "125, figsize,xlwidth,ylwidth,lw, gain:  (10, 11) 0.5637798363211254 0.5184664663271789 0.2764006820325693 0.68927477181336\n",
      "vertlininterval,horlininterval 50 250\n",
      "130, figsize,xlwidth,ylwidth,lw, gain:  (17, 11) 0.4019552627227893 0.43845086094433655 0.20565218458834697 0.3166174103413627\n",
      "vertlininterval,horlininterval 50 200\n",
      "135, figsize,xlwidth,ylwidth,lw, gain:  (14, 8) 0.13952988394697285 0.37200979869708206 0.1453289294948281 0.8039282735711708\n",
      "vertlininterval,horlininterval 75 200\n",
      "140, figsize,xlwidth,ylwidth,lw, gain:  (30, 4) 0.038714537039738484 0.44510652124974825 0.5961888661559985 0.42369139651616416\n",
      "vertlininterval,horlininterval 75 200\n",
      "145, figsize,xlwidth,ylwidth,lw, gain:  (26, 4) 0.2540376418879303 0.3386700679688698 0.3979655752669673 0.204179365107328\n",
      "vertlininterval,horlininterval 10 200\n",
      "150, figsize,xlwidth,ylwidth,lw, gain:  (26, 11) 0.1221132867898983 0.6943989532234272 0.23367352317872622 0.20891058382318156\n",
      "vertlininterval,horlininterval 10 200\n",
      "155, figsize,xlwidth,ylwidth,lw, gain:  (13, 10) 0.4549373764850254 0.2753875356002128 0.4004393033055157 0.8249416209801415\n",
      "vertlininterval,horlininterval 50 300\n",
      "160, figsize,xlwidth,ylwidth,lw, gain:  (21, 8) 0.380222356988034 0.34194765880155825 0.32631839135542673 0.5891899472435387\n",
      "vertlininterval,horlininterval 50 400\n",
      "165, figsize,xlwidth,ylwidth,lw, gain:  (18, 10) 0.9653809092574737 0.1695835073015996 0.47925139907172687 0.8049793913869843\n",
      "vertlininterval,horlininterval 50 400\n",
      "170, figsize,xlwidth,ylwidth,lw, gain:  (14, 6) 0.30115062643296076 0.2749501051190906 0.10447201484281018 0.7143327281337402\n",
      "vertlininterval,horlininterval 75 100\n",
      "175, figsize,xlwidth,ylwidth,lw, gain:  (29, 4) 0.014301997786298815 0.21761920712504423 0.11092465527934156 0.37376372157544197\n",
      "vertlininterval,horlininterval 20 250\n",
      "180, figsize,xlwidth,ylwidth,lw, gain:  (14, 11) 0.2767280936321666 0.30482910230215754 0.41085384999787167 0.479314582687548\n",
      "vertlininterval,horlininterval 75 300\n",
      "185, figsize,xlwidth,ylwidth,lw, gain:  (29, 9) 0.42201769340287754 0.3404278352781165 0.561142090486456 0.6208160857021863\n",
      "vertlininterval,horlininterval 60 100\n",
      "190, figsize,xlwidth,ylwidth,lw, gain:  (23, 7) 0.6845000112393302 0.3609351091405203 0.18115679310966928 0.5696107364405703\n",
      "vertlininterval,horlininterval 20 100\n",
      "195, figsize,xlwidth,ylwidth,lw, gain:  (11, 9) 0.09786018256460205 0.11463480001904514 0.23771751889737638 0.6321573529987549\n",
      "vertlininterval,horlininterval 20 400\n",
      "200, figsize,xlwidth,ylwidth,lw, gain:  (22, 7) 0.34274825024002387 0.3822698445604763 0.3882210129311199 0.8402930166102578\n",
      "vertlininterval,horlininterval 10 200\n",
      "205, figsize,xlwidth,ylwidth,lw, gain:  (15, 5) 0.8779310174091858 0.4624885874330187 0.23551519212786529 0.5491790951023443\n",
      "vertlininterval,horlininterval 20 100\n",
      "210, figsize,xlwidth,ylwidth,lw, gain:  (14, 9) 0.26187331942862824 0.5770772262414139 0.37949487221189193 0.8459420154177739\n",
      "vertlininterval,horlininterval 60 200\n",
      "215, figsize,xlwidth,ylwidth,lw, gain:  (10, 6) 0.7758714423058924 0.07504656498944273 0.24365264141051898 0.44786904597668903\n",
      "vertlininterval,horlininterval 60 200\n",
      "220, figsize,xlwidth,ylwidth,lw, gain:  (21, 5) 0.487095626929376 0.2950452380497041 0.23922147423204473 0.6763207779049659\n",
      "vertlininterval,horlininterval 10 200\n",
      "225, figsize,xlwidth,ylwidth,lw, gain:  (13, 7) 0.17542678128575406 0.002608606801490665 0.3478626670717654 0.20367018038981272\n",
      "vertlininterval,horlininterval 50 200\n",
      "230, figsize,xlwidth,ylwidth,lw, gain:  (25, 4) 0.4837115477776389 0.6895720499027009 0.14920792180166156 0.7537250903254646\n",
      "vertlininterval,horlininterval 50 300\n",
      "235, figsize,xlwidth,ylwidth,lw, gain:  (24, 11) 0.02921945618810884 0.5858649736522761 0.10327809140511038 0.794615141711458\n",
      "vertlininterval,horlininterval 10 200\n",
      "240, figsize,xlwidth,ylwidth,lw, gain:  (21, 4) 0.11641248386559072 0.31543791236737106 0.4292388858726436 0.8593680926044602\n",
      "vertlininterval,horlininterval 75 300\n",
      "245, figsize,xlwidth,ylwidth,lw, gain:  (22, 4) 0.028334055671376313 0.7420654511542247 0.24967869853260985 0.8261579382009672\n",
      "vertlininterval,horlininterval 75 200\n",
      "250, figsize,xlwidth,ylwidth,lw, gain:  (25, 6) 0.9093231806518064 0.37995676006415924 0.5883361122869789 0.7567293939781552\n",
      "vertlininterval,horlininterval 50 400\n",
      "255, figsize,xlwidth,ylwidth,lw, gain:  (11, 11) 0.38317350080401447 0.10685258053304192 0.14662000557670482 0.34276184093861684\n",
      "vertlininterval,horlininterval 75 400\n",
      "260, figsize,xlwidth,ylwidth,lw, gain:  (15, 6) 0.5690951581311763 0.3220441311590199 0.24329286394549346 0.38116347721588145\n",
      "vertlininterval,horlininterval 60 250\n",
      "265, figsize,xlwidth,ylwidth,lw, gain:  (14, 5) 0.5782070628464747 0.488782420565965 0.3054951747582202 0.26447496169400775\n",
      "vertlininterval,horlininterval 10 400\n",
      "270, figsize,xlwidth,ylwidth,lw, gain:  (23, 9) 0.21105493246969032 0.4962279162658855 0.33738408632975325 0.22377049311488553\n",
      "vertlininterval,horlininterval 20 200\n",
      "275, figsize,xlwidth,ylwidth,lw, gain:  (31, 10) 0.48204820646957597 0.05042588285269223 0.5513167846300996 0.39021213061325827\n",
      "vertlininterval,horlininterval 75 250\n"
     ]
    },
    {
     "name": "stdout",
     "output_type": "stream",
     "text": [
      "280, figsize,xlwidth,ylwidth,lw, gain:  (18, 7) 0.20445410283037124 0.5023233386676381 0.12066944442231711 0.615734431856465\n",
      "vertlininterval,horlininterval 50 200\n",
      "285, figsize,xlwidth,ylwidth,lw, gain:  (31, 7) 0.9123524701933502 0.3844964336867347 0.22679622069338165 0.5860747426027748\n",
      "vertlininterval,horlininterval 20 400\n",
      "290, figsize,xlwidth,ylwidth,lw, gain:  (11, 9) 0.3865381622853408 0.6598857085771777 0.32776109233462536 0.524301366390141\n",
      "vertlininterval,horlininterval 50 250\n",
      "295, figsize,xlwidth,ylwidth,lw, gain:  (23, 9) 0.05275277277499557 0.41232178107379186 0.5096204900600763 0.802721096191672\n",
      "vertlininterval,horlininterval 20 200\n",
      "300, figsize,xlwidth,ylwidth,lw, gain:  (28, 8) 0.17232536009456023 0.042112169743867334 0.29890274483288826 0.7236353438149359\n",
      "vertlininterval,horlininterval 10 300\n",
      "305, figsize,xlwidth,ylwidth,lw, gain:  (12, 5) 0.06470673582079445 0.09085237036566884 0.1833877763247427 0.7703091246277141\n",
      "vertlininterval,horlininterval 10 400\n",
      "310, figsize,xlwidth,ylwidth,lw, gain:  (18, 10) 0.5627815952976648 0.3408884244092516 0.3514986201222481 0.7400560616815841\n",
      "vertlininterval,horlininterval 75 200\n",
      "315, figsize,xlwidth,ylwidth,lw, gain:  (18, 5) 0.2954769583508393 0.301023680457693 0.16717643526549883 0.20850907371632219\n",
      "vertlininterval,horlininterval 75 200\n",
      "320, figsize,xlwidth,ylwidth,lw, gain:  (22, 8) 0.8220206366555955 0.17659539494274962 0.32084218295595524 0.45820633482864115\n",
      "vertlininterval,horlininterval 10 100\n",
      "325, figsize,xlwidth,ylwidth,lw, gain:  (26, 7) 0.3322127280110508 0.22975730843988879 0.23067283963100635 0.5661622965460332\n",
      "vertlininterval,horlininterval 60 300\n",
      "330, figsize,xlwidth,ylwidth,lw, gain:  (19, 10) 0.6972692300679492 0.09978948609572025 0.16841611875513582 0.400381210372303\n",
      "vertlininterval,horlininterval 75 250\n",
      "335, figsize,xlwidth,ylwidth,lw, gain:  (14, 8) 0.5969776918699221 0.18215583388414586 0.1993009251279634 0.6415084255616539\n",
      "vertlininterval,horlininterval 20 250\n",
      "340, figsize,xlwidth,ylwidth,lw, gain:  (11, 5) 0.4608445997992796 0.13172763867279252 0.37808674347987037 0.3345778037881595\n",
      "vertlininterval,horlininterval 60 400\n",
      "345, figsize,xlwidth,ylwidth,lw, gain:  (27, 6) 0.030912042275439755 0.5207914785982066 0.18549549509216592 0.3417237170828461\n",
      "vertlininterval,horlininterval 50 250\n",
      "350, figsize,xlwidth,ylwidth,lw, gain:  (25, 4) 0.7677360125583188 0.1604846891429036 0.5668617088434738 0.7722416648929318\n",
      "vertlininterval,horlininterval 20 300\n",
      "355, figsize,xlwidth,ylwidth,lw, gain:  (24, 4) 0.35598656671215545 0.47098425785789216 0.5392964003692189 0.805257359392759\n",
      "vertlininterval,horlininterval 60 300\n",
      "360, figsize,xlwidth,ylwidth,lw, gain:  (28, 4) 0.1697756066609714 0.32799057051605274 0.1513719189922665 0.3336844414667687\n",
      "vertlininterval,horlininterval 10 100\n",
      "365, figsize,xlwidth,ylwidth,lw, gain:  (23, 7) 0.2128741156750692 0.29147368282229513 0.3831152848351823 0.5781696030661113\n",
      "vertlininterval,horlininterval 75 250\n",
      "370, figsize,xlwidth,ylwidth,lw, gain:  (12, 5) 0.5514778692397907 0.29714476174014415 0.40094346106060397 0.29339395392085954\n",
      "vertlininterval,horlininterval 20 400\n",
      "375, figsize,xlwidth,ylwidth,lw, gain:  (17, 7) 0.38591071946169275 0.8711111272366976 0.16991332501637899 0.49550917663099453\n",
      "vertlininterval,horlininterval 20 300\n",
      "380, figsize,xlwidth,ylwidth,lw, gain:  (13, 4) 0.10167517522434572 0.48262593019295885 0.45376762501865686 0.5143946426590638\n",
      "vertlininterval,horlininterval 60 300\n",
      "385, figsize,xlwidth,ylwidth,lw, gain:  (13, 8) 0.25104555048637267 0.07249886387621174 0.3754268421392163 0.6720838875787362\n",
      "vertlininterval,horlininterval 20 400\n",
      "390, figsize,xlwidth,ylwidth,lw, gain:  (15, 5) 0.11505823235204049 0.08761366251487412 0.4049690419234553 0.4538221679417629\n",
      "vertlininterval,horlininterval 50 200\n",
      "395, figsize,xlwidth,ylwidth,lw, gain:  (24, 6) 0.5764113759482599 0.04161446063185181 0.49177713186608385 0.6513651428603819\n",
      "vertlininterval,horlininterval 20 200\n",
      "400, figsize,xlwidth,ylwidth,lw, gain:  (25, 8) 0.36988229193679245 0.06663534320724457 0.22912538048109313 0.31397355746395783\n",
      "vertlininterval,horlininterval 20 300\n"
     ]
    }
   ],
   "source": [
    "def getImages(ss):\n",
    "    gain=0.2+np.random.random()/1.5\n",
    "    lw=0.1+np.random.random()/2\n",
    "    ntraces=ss.shape[0]\n",
    "    t=np.arange(ss.shape[1])*dt\n",
    "    figsize=(np.random.randint(10,32), np.random.randint(4,12))\n",
    "#     figsize=(28,8)\n",
    "    fig = plt.figure(figsize=(np.random.randint(10,32), np.random.randint(4,12)))\n",
    "    # ax = fig.add_subplot(111)\n",
    "    ax =fig.add_axes([0.0, 0.0, 0.999, 0.999])\n",
    "    fig.subplots_adjust(hspace=0.0)\n",
    "    data = ss\n",
    "\n",
    "    sc = np.percentile(data, perc)  # Normalization factor\n",
    "    wigdata = data[::skip, :]\n",
    "    xpos = np.arange(ntraces)[::skip]\n",
    "    \n",
    "    vertlininterval=np.random.choice([10,20,50,60,75],1)[0]\n",
    "#     horlininterval=100 #flat line\n",
    "    horlininterval=np.random.choice([100,200,200,250,300,400],1)[0] #Time interval\n",
    "    \n",
    "#     vertlininterval=100\n",
    "    for x, trace in zip(xpos, wigdata):\n",
    "        # Compute high resolution trace.\n",
    "        amp = gain * trace / sc + x\n",
    "    #     t = 1000 * self.tbasis\n",
    "        hypertime = np.linspace(t[0], t[-1], (10 * t.size - 1) + 1)\n",
    "        hyperamp = np.interp(hypertime, t, amp)\n",
    "\n",
    "        # Plot the line, then the fill.\n",
    "        ax.plot(hyperamp, hypertime, 'k', lw=lw)\n",
    "        ax.fill_betweenx(hypertime, hyperamp, x,\n",
    "                         where=hyperamp > x,\n",
    "                         facecolor='black',\n",
    "                         lw=0,\n",
    "                         )\n",
    "    ax.set_xlim([xpos[0],xpos[-1]])   \n",
    "    ax.set_ylim([t[0],t[-1]])\n",
    "    ax.invert_yaxis()\n",
    "    \n",
    "    clnimg = fig2img(fig)\n",
    "\n",
    "    # ax.grid()\n",
    "    # ax.axes.xaxis.set_visible(False)\n",
    "    # ax.axes.yaxis.set_visible(False)\n",
    "    ax.axes.xaxis.set_ticks(range(0,ntraces,vertlininterval))\n",
    "    ax.axes.yaxis.set_ticks(range(t[0], t[-1],horlininterval))\n",
    "    # if cfg['grid_time'] or cfg['grid_traces']:\n",
    "    ax.grid(True)\n",
    "    xlwidth=np.random.random()*np.random.randint(1,3)/2\n",
    "    ylwidth=np.random.random()*np.random.randint(1,3)/2\n",
    "    print('figsize,xlwidth,ylwidth,lw, gain: ',figsize,xlwidth,ylwidth,lw,gain)\n",
    "    print('vertlininterval,horlininterval',vertlininterval,horlininterval)\n",
    "    xlwidth,ylwidth=0.5,0.5\n",
    "    for l in ax.get_xgridlines():\n",
    "    #         l.set_color(utils.rgb_to_hex(cfg['grid_colour']))\n",
    "        l.set_color('black')\n",
    "        l.set_linestyle('-')\n",
    "        l.set_linewidth(xlwidth)\n",
    "        \n",
    "\n",
    "    for l in ax.get_ygridlines():\n",
    "    #         l.set_color(utils.rgb_to_hex(cfg['grid_colour']))\n",
    "        l.set_color('black')\n",
    "        l.set_linestyle('-')\n",
    "        l.set_linewidth(ylwidth)\n",
    "\n",
    "    \n",
    "    grdimg = fig2img(fig)\n",
    "    a=fig.clf()\n",
    "    plt.close(fig)\n",
    "    return clnimg,grdimg\n",
    "\n",
    "# for ilne in inlines:\n",
    "for ilne in xlines:\n",
    "    if ilne>24:\n",
    "        print(ilne,end=', ')\n",
    "    #     xlinerange=range(np.random.randint(0,int(xlines/2)-100),np.random.randint(int(xlines/2)+50,xlines))\n",
    "    #     vrange=np.array(range(np.random.randint(0,int(tpoints/2)-500),np.random.randint(int(tpoints/2)+50,tpoints)))\n",
    "#         ss=vol[ilne][np.random.randint(0,int(xlines/2)-100):np.random.randint(int(xlines/2)+50,xlines),\n",
    "#               np.random.randint(0,int(tpoints/2)-500):np.random.randint(int(tpoints/2)+50,tpoints)] \n",
    "        ss=vol[np.random.randint(0,int(ilines/2)-100):np.random.randint(int(ilines/2)+50,ilines),ilne,\n",
    "              np.random.randint(0,int(tpoints/2)-500):np.random.randint(int(tpoints/2)+50,tpoints)] \n",
    "#         ss=vol[ilne][:,500:-500]    \n",
    "        clnimg,grdimg=getImages(ss)\n",
    "        inputimagepath=imdatafolder+np.random.choice(files)\n",
    "        noisebaseim = Image.open(inputimagepath)\n",
    "        try:\n",
    "            noisebaseim=randomcrop(noisebaseim)\n",
    "        except:\n",
    "            None\n",
    "        noisebaseim = noisebaseim.resize(grdimg.size)\n",
    "        noisebaseim = noisebaseim.convert(\"RGBA\")\n",
    "        alpha=np.random.randint(4,9)+np.random.random()\n",
    "        noiseim=Image.blend( noisebaseim,grdimg,alpha=alpha)\n",
    "        \n",
    "        # img.paste(fimg, (100, 0), fimg)\n",
    "#         noiseim.show()\n",
    "        \n",
    "        clnimg.save(cleanfolder+'{}_xd11.png'.format(ilne))\n",
    "        noiseim.save(noisefolder+'{}_xd11.png'.format(ilne))\n",
    "#         break\n",
    "    \n",
    "#     break"
   ]
  },
  {
   "cell_type": "code",
   "execution_count": 72,
   "id": "82b9d5fd",
   "metadata": {},
   "outputs": [
    {
     "data": {
      "text/plain": [
       "401"
      ]
     },
     "execution_count": 72,
     "metadata": {},
     "output_type": "execute_result"
    }
   ],
   "source": [
    "# ss.shape,vol.shape\n",
    "xlines"
   ]
  },
  {
   "cell_type": "code",
   "execution_count": 70,
   "id": "32739b75",
   "metadata": {},
   "outputs": [
    {
     "data": {
      "text/plain": [
       "<matplotlib.image.AxesImage at 0x206dba755b0>"
      ]
     },
     "execution_count": 70,
     "metadata": {},
     "output_type": "execute_result"
    },
    {
     "data": {
      "image/png": "[encoded data removed]",
      "text/plain": [
       "<Figure size 1152x1152 with 1 Axes>"
      ]
     },
     "metadata": {
      "needs_background": "light"
     },
     "output_type": "display_data"
    }
   ],
   "source": [
    "ss.shape,vol.shape\n",
    "ss=vol[ilne][:,0:]\n",
    "fig = plt.figure(figsize=(16, 16))\n",
    "plt.imshow(ss.T)"
   ]
  },
  {
   "cell_type": "code",
   "execution_count": 534,
   "id": "c10d1f71",
   "metadata": {},
   "outputs": [
    {
     "name": "stdout",
     "output_type": "stream",
     "text": [
      "(705, 2501)\n"
     ]
    },
    {
     "data": {
      "text/plain": [
       "array([[0., 0., 0., ..., 0., 0., 0.],\n",
       "       [0., 0., 0., ..., 0., 0., 0.],\n",
       "       [0., 0., 0., ..., 0., 0., 0.],\n",
       "       ...,\n",
       "       [0., 0., 0., ..., 0., 0., 0.],\n",
       "       [0., 0., 0., ..., 0., 0., 0.],\n",
       "       [0., 0., 0., ..., 0., 0., 0.]], dtype=float32)"
      ]
     },
     "execution_count": 534,
     "metadata": {},
     "output_type": "execute_result"
    }
   ],
   "source": [
    "# fimg.save('test3.png')\n",
    "xlinerange,vrange\n",
    "vol[ilne].shape\n",
    "# \n",
    "xlinerange=np.arange(np.random.randint(0,int(xlines/2)-100),np.random.randint(int(xlines/2)+50,xlines))\n",
    "vrange=np.arange(np.random.randint(0,int(tpoints/2)-500),np.random.randint(int(tpoints/2)+50,tpoints))\n",
    "\n"
   ]
  },
  {
   "cell_type": "code",
   "execution_count": 542,
   "id": "a9cd3e16",
   "metadata": {},
   "outputs": [
    {
     "data": {
      "text/plain": [
       "(338, 2075)"
      ]
     },
     "execution_count": 542,
     "metadata": {},
     "output_type": "execute_result"
    }
   ],
   "source": [
    "# xlinerange,vrange\n",
    "vol[ilne]\n",
    "# newim.show()\n",
    "np.random.randint(0,int(tpoints/2)-500),np.random.randint(int(tpoints/2)+50,tpoints)"
   ]
  }
 ],
 "metadata": {
  "kernelspec": {
   "display_name": "Python 3",
   "language": "python",
   "name": "python3"
  },
  "language_info": {
   "codemirror_mode": {
    "name": "ipython",
    "version": 3
   },
   "file_extension": ".py",
   "mimetype": "text/x-python",
   "name": "python",
   "nbconvert_exporter": "python",
   "pygments_lexer": "ipython3",
   "version": "3.8.8"
  }
 },
 "nbformat": 4,
 "nbformat_minor": 5
}
